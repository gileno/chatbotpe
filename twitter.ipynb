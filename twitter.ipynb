{
 "cells": [
  {
   "cell_type": "code",
   "execution_count": 1,
   "metadata": {},
   "outputs": [],
   "source": [
    "import os\n",
    "from tapioca_twitter import Twitter\n",
    "import tokens"
   ]
  },
  {
   "cell_type": "code",
   "execution_count": 2,
   "metadata": {},
   "outputs": [],
   "source": [
    "api_twitter = Twitter(\n",
    "    api_key=os.environ['TWITTER_API_KEY'],\n",
    "    api_secret=os.environ['TWITTER_API_SECRET'],\n",
    "    access_token=os.environ['TWITTER_ACCESS_TOKEN'],\n",
    "    access_token_secret=os.environ['TWITTER_ACCESS_SECRET']\n",
    ")"
   ]
  },
  {
   "cell_type": "code",
   "execution_count": 3,
   "metadata": {},
   "outputs": [],
   "source": [
    "tweets = api_twitter.statuses_home_timeline().get()"
   ]
  },
  {
   "cell_type": "code",
   "execution_count": 4,
   "metadata": {},
   "outputs": [
    {
     "name": "stdout",
     "output_type": "stream",
     "text": [
      "RT @diogogoebel: Dorme, sonha com kubernetes.\n",
      "Acorda, pensa em kubernetes.\n",
      "Abre o YouTube, tem vídeos de kubernetes.\n",
      "Acho que você precisa…\n",
      "TÁ NOVO O MENINO @neymarjr? O nosso CRAQUE respondeu isso e ainda falou sobre a expectativa para o duelo contra a C… https://t.co/TUa0KEjYlY\n",
      "Finalmente um visual novo!\n",
      "\n",
      "Depois de 6 anos, Valve anuncia atualização de interface chamada Panorama… https://t.co/1AT3AmOMjn\n",
      "Todo dia tem programação rolando e vc pode vir aqui na arena uol no shopping jk pra assistir a gente e outras pesso… https://t.co/h0waCXH5dA\n",
      "#FortuneCookies after @thecarpentries executive council in-person meeting: \"A forgotten project will resurface at t… https://t.co/ppMQBI4om3\n",
      "E-health to \"reduce risk on future disasters\" @UCLIRDR #irdr8th https://t.co/BX03Ns23Lk\n",
      "Keep a few coins in your wallet when you go adventuring outdoors: https://t.co/GrhXgPLDhU\n",
      "A parte 1 foi essa maravilha ai hahahahah TCC DE EMERGÊNCIA: https://t.co/IkVZan2Rya\n",
      "RT @GabRF: Estão tentando mostrar que os assediadores na Rússia estão mais ou menos errados comparando com outros casos...\n",
      "\n",
      "Não é uma quest…\n",
      "https://t.co/RvaF9owpHc\n",
      "Me manda um tema de TCC bem complexo que vc tenha feito que vai ter a parte 2 do TCC DE EMERGENCIA no youtube!\n",
      "RT @LuisSuarez9: FELIZ por ser parte de la HISTORIA de URUGUAY cumpliendo 💯 partidos!!! FELIZ por avanzar a Octavos nuevamente 👏👏👏 y MÁS QU…\n",
      "Sexta vai rolar mais uma Live acompanhando o jogo do Brasil!\n",
      "Cola com a gente às 08h40 pra acompanhar o segundo jog… https://t.co/MjOa42FqLR\n",
      "1. You may change external state by accident when you reassign values\n",
      "2. You create more complex code when you reas… https://t.co/yZPhDkWcI4\n",
      "Depois desses dois jogos, os dois times que ganharem esses jogos se enfrentam (espero que @paiNGamingBR x… https://t.co/xlICQ4SQC6\n",
      "O que significa que seria a Grécia, e não a Irlanda, o indicado da confederação do país-sede para jogar a repescage… https://t.co/UsUVZ83Wbe\n",
      "RT @PretasnaRede: GEEEEEEENTE já atualizou o feed? tem episódio novinho no ar, corre lá pra não perder esse papo delicia sobre expectativas…\n",
      "RT @JUrruzola: En la puerta de la casa donde viviera Elena y que a final de los 70 fue rapiñada por las FFAA de nuestro país, ahora una int…\n",
      "Qualificatórias fechadas SA do Dota 2:\n",
      "Amanhã às 13h começam as playoffs com @SGe_sports x Torus, vai ser uma serie… https://t.co/iV8ZT0RXYj\n",
      "Só falta deixar de ser fominha e de cair toda hora q tá tudo certo https://t.co/RI7Fb8FCOr\n"
     ]
    }
   ],
   "source": [
    "for tweet in tweets().data:\n",
    "    print(tweet['text'])"
   ]
  },
  {
   "cell_type": "code",
   "execution_count": null,
   "metadata": {},
   "outputs": [],
   "source": []
  }
 ],
 "metadata": {
  "kernelspec": {
   "display_name": "Python 3",
   "language": "python",
   "name": "python3"
  },
  "language_info": {
   "codemirror_mode": {
    "name": "ipython",
    "version": 3
   },
   "file_extension": ".py",
   "mimetype": "text/x-python",
   "name": "python",
   "nbconvert_exporter": "python",
   "pygments_lexer": "ipython3",
   "version": "3.6.4"
  }
 },
 "nbformat": 4,
 "nbformat_minor": 2
}
