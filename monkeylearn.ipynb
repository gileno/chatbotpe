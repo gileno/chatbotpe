{
 "cells": [
  {
   "cell_type": "code",
   "execution_count": 1,
   "metadata": {},
   "outputs": [],
   "source": [
    "from monkeylearn import MonkeyLearn\n",
    "import pprint\n",
    "import re\n",
    "import os"
   ]
  },
  {
   "cell_type": "code",
   "execution_count": 2,
   "metadata": {},
   "outputs": [],
   "source": [
    "ml = MonkeyLearn(os.environ['ML_API_KEY'])"
   ]
  },
  {
   "cell_type": "code",
   "execution_count": 3,
   "metadata": {},
   "outputs": [],
   "source": [
    "data = [\"I'm very well talking here on chatbot\"]"
   ]
  },
  {
   "cell_type": "code",
   "execution_count": 4,
   "metadata": {},
   "outputs": [],
   "source": [
    "response = ml.classifiers.classify(\n",
    "    model_id='cl_oJNMkt2V', data=data\n",
    ")"
   ]
  },
  {
   "cell_type": "code",
   "execution_count": 5,
   "metadata": {},
   "outputs": [
    {
     "data": {
      "text/plain": [
       "1"
      ]
     },
     "execution_count": 5,
     "metadata": {},
     "output_type": "execute_result"
    }
   ],
   "source": [
    "response.request_queries_used"
   ]
  },
  {
   "cell_type": "code",
   "execution_count": 6,
   "metadata": {},
   "outputs": [
    {
     "name": "stdout",
     "output_type": "stream",
     "text": [
      "[{'classifications': [{'confidence': 0.744,\n",
      "                       'parents': [{'confidence': 0.974,\n",
      "                                    'tag_id': 54948279,\n",
      "                                    'tag_name': 'Germanic'}],\n",
      "                       'tag_id': 54948282,\n",
      "                       'tag_name': 'English-en'}],\n",
      "  'error': False,\n",
      "  'external_id': None,\n",
      "  'text': \"I'm very well talking here on chatbot\"}]\n"
     ]
    }
   ],
   "source": [
    "pprint.pprint(response.body)"
   ]
  },
  {
   "cell_type": "code",
   "execution_count": 7,
   "metadata": {},
   "outputs": [],
   "source": [
    "response = ml.classifiers.classify(model_id='cl_Jx8qzYJh', data=data)"
   ]
  },
  {
   "cell_type": "code",
   "execution_count": 8,
   "metadata": {},
   "outputs": [
    {
     "name": "stdout",
     "output_type": "stream",
     "text": [
      "[{'classifications': [{'confidence': 0.767,\n",
      "                       'tag_id': 55180395,\n",
      "                       'tag_name': 'Positive'}],\n",
      "  'error': False,\n",
      "  'external_id': None,\n",
      "  'text': \"I'm very well talking here on chatbot\"}]\n"
     ]
    }
   ],
   "source": [
    "pprint.pprint(response.body)"
   ]
  },
  {
   "cell_type": "code",
   "execution_count": 9,
   "metadata": {},
   "outputs": [],
   "source": [
    "from tapioca_twitter import Twitter"
   ]
  },
  {
   "cell_type": "code",
   "execution_count": 10,
   "metadata": {},
   "outputs": [],
   "source": [
    "api_twitter = Twitter(\n",
    "    api_key=os.environ['TWITTER_API_KEY'],\n",
    "    api_secret=os.environ['TWITTER_API_SECRET'],\n",
    "    access_token=os.environ['TWITTER_ACCESS_TOKEN'],\n",
    "    access_token_secret=os.environ['TWITTER_ACCESS_SECRET']\n",
    ")"
   ]
  },
  {
   "cell_type": "code",
   "execution_count": 15,
   "metadata": {},
   "outputs": [],
   "source": [
    "tweets = api_twitter.statuses_home_timeline().get()"
   ]
  },
  {
   "cell_type": "code",
   "execution_count": 16,
   "metadata": {},
   "outputs": [],
   "source": [
    "data = []"
   ]
  },
  {
   "cell_type": "code",
   "execution_count": 17,
   "metadata": {},
   "outputs": [
    {
     "name": "stdout",
     "output_type": "stream",
     "text": [
      "RT @diogogoebel: Dorme, sonha com kubernetes.\n",
      "Acorda, pensa em kubernetes.\n",
      "Abre o YouTube, tem vídeos de kubernetes.\n",
      "Acho que você precisa…\n",
      "TÁ NOVO O MENINO @neymarjr? O nosso CRAQUE respondeu isso e ainda falou sobre a expectativa para o duelo contra a C… https://t.co/TUa0KEjYlY\n",
      "Finalmente um visual novo!\n",
      "\n",
      "Depois de 6 anos, Valve anuncia atualização de interface chamada Panorama… https://t.co/1AT3AmOMjn\n",
      "Todo dia tem programação rolando e vc pode vir aqui na arena uol no shopping jk pra assistir a gente e outras pesso… https://t.co/h0waCXH5dA\n",
      "#FortuneCookies after @thecarpentries executive council in-person meeting: \"A forgotten project will resurface at t… https://t.co/ppMQBI4om3\n",
      "E-health to \"reduce risk on future disasters\" @UCLIRDR #irdr8th https://t.co/BX03Ns23Lk\n",
      "Keep a few coins in your wallet when you go adventuring outdoors: https://t.co/GrhXgPLDhU\n",
      "A parte 1 foi essa maravilha ai hahahahah TCC DE EMERGÊNCIA: https://t.co/IkVZan2Rya\n",
      "RT @GabRF: Estão tentando mostrar que os assediadores na Rússia estão mais ou menos errados comparando com outros casos...\n",
      "\n",
      "Não é uma quest…\n",
      "https://t.co/RvaF9owpHc\n",
      "Me manda um tema de TCC bem complexo que vc tenha feito que vai ter a parte 2 do TCC DE EMERGENCIA no youtube!\n",
      "RT @LuisSuarez9: FELIZ por ser parte de la HISTORIA de URUGUAY cumpliendo 💯 partidos!!! FELIZ por avanzar a Octavos nuevamente 👏👏👏 y MÁS QU…\n",
      "Sexta vai rolar mais uma Live acompanhando o jogo do Brasil!\n",
      "Cola com a gente às 08h40 pra acompanhar o segundo jog… https://t.co/MjOa42FqLR\n",
      "1. You may change external state by accident when you reassign values\n",
      "2. You create more complex code when you reas… https://t.co/yZPhDkWcI4\n",
      "Depois desses dois jogos, os dois times que ganharem esses jogos se enfrentam (espero que @paiNGamingBR x… https://t.co/xlICQ4SQC6\n",
      "O que significa que seria a Grécia, e não a Irlanda, o indicado da confederação do país-sede para jogar a repescage… https://t.co/UsUVZ83Wbe\n",
      "RT @PretasnaRede: GEEEEEEENTE já atualizou o feed? tem episódio novinho no ar, corre lá pra não perder esse papo delicia sobre expectativas…\n",
      "RT @JUrruzola: En la puerta de la casa donde viviera Elena y que a final de los 70 fue rapiñada por las FFAA de nuestro país, ahora una int…\n",
      "Qualificatórias fechadas SA do Dota 2:\n",
      "Amanhã às 13h começam as playoffs com @SGe_sports x Torus, vai ser uma serie… https://t.co/iV8ZT0RXYj\n",
      "Só falta deixar de ser fominha e de cair toda hora q tá tudo certo https://t.co/RI7Fb8FCOr\n"
     ]
    }
   ],
   "source": [
    "for tweet in tweets().data:\n",
    "    print(tweet['text'])"
   ]
  },
  {
   "cell_type": "code",
   "execution_count": 18,
   "metadata": {},
   "outputs": [],
   "source": [
    "tweets = api_twitter.statuses_home_timeline().get()\n",
    "data = [t['text'] for t in tweets().data]"
   ]
  },
  {
   "cell_type": "code",
   "execution_count": 19,
   "metadata": {},
   "outputs": [
    {
     "data": {
      "text/plain": [
       "20"
      ]
     },
     "execution_count": 19,
     "metadata": {},
     "output_type": "execute_result"
    }
   ],
   "source": [
    "len(data)"
   ]
  },
  {
   "cell_type": "code",
   "execution_count": 20,
   "metadata": {},
   "outputs": [],
   "source": [
    "response = ml.classifiers.classify(model_id='cl_Jx8qzYJh', data=data)"
   ]
  },
  {
   "cell_type": "code",
   "execution_count": 22,
   "metadata": {},
   "outputs": [
    {
     "name": "stdout",
     "output_type": "stream",
     "text": [
      "[{'classifications': [{'confidence': 0.604,\n",
      "                       'tag_id': 55180397,\n",
      "                       'tag_name': 'Neutral'}],\n",
      "  'error': False,\n",
      "  'external_id': None,\n",
      "  'text': 'amplificando texto sobre o machismo e racismo dos cabaços na '\n",
      "          'Rússia, aquela atitude deles é fruto da nossa sociedad… '\n",
      "          'https://t.co/ez3f56aD9G'},\n",
      " {'classifications': [{'confidence': 0.84,\n",
      "                       'tag_id': 55180397,\n",
      "                       'tag_name': 'Neutral'}],\n",
      "  'error': False,\n",
      "  'external_id': None,\n",
      "  'text': 'RT @diogogoebel: Dorme, sonha com kubernetes.\\n'\n",
      "          'Acorda, pensa em kubernetes.\\n'\n",
      "          'Abre o YouTube, tem vídeos de kubernetes.\\n'\n",
      "          'Acho que você precisa…'},\n",
      " {'classifications': [{'confidence': 0.547,\n",
      "                       'tag_id': 55180395,\n",
      "                       'tag_name': 'Positive'}],\n",
      "  'error': False,\n",
      "  'external_id': None,\n",
      "  'text': 'TÁ NOVO O MENINO @neymarjr? O nosso CRAQUE respondeu isso e ainda '\n",
      "          'falou sobre a expectativa para o duelo contra a C… '\n",
      "          'https://t.co/TUa0KEjYlY'},\n",
      " {'classifications': [{'confidence': 0.466,\n",
      "                       'tag_id': 55180397,\n",
      "                       'tag_name': 'Neutral'}],\n",
      "  'error': False,\n",
      "  'external_id': None,\n",
      "  'text': 'Finalmente um visual novo!\\n'\n",
      "          '\\n'\n",
      "          'Depois de 6 anos, Valve anuncia atualização de interface chamada '\n",
      "          'Panorama… https://t.co/1AT3AmOMjn'},\n",
      " {'classifications': [{'confidence': 0.666,\n",
      "                       'tag_id': 55180397,\n",
      "                       'tag_name': 'Neutral'}],\n",
      "  'error': False,\n",
      "  'external_id': None,\n",
      "  'text': 'Todo dia tem programação rolando e vc pode vir aqui na arena uol no '\n",
      "          'shopping jk pra assistir a gente e outras pesso… '\n",
      "          'https://t.co/h0waCXH5dA'},\n",
      " {'classifications': [{'confidence': 0.672,\n",
      "                       'tag_id': 55180397,\n",
      "                       'tag_name': 'Neutral'}],\n",
      "  'error': False,\n",
      "  'external_id': None,\n",
      "  'text': '#FortuneCookies after @thecarpentries executive council in-person '\n",
      "          'meeting: \"A forgotten project will resurface at t… '\n",
      "          'https://t.co/ppMQBI4om3'},\n",
      " {'classifications': [{'confidence': 0.872,\n",
      "                       'tag_id': 55180395,\n",
      "                       'tag_name': 'Positive'}],\n",
      "  'error': False,\n",
      "  'external_id': None,\n",
      "  'text': 'E-health to \"reduce risk on future disasters\" @UCLIRDR #irdr8th '\n",
      "          'https://t.co/BX03Ns23Lk'},\n",
      " {'classifications': [{'confidence': 0.505,\n",
      "                       'tag_id': 55180395,\n",
      "                       'tag_name': 'Positive'}],\n",
      "  'error': False,\n",
      "  'external_id': None,\n",
      "  'text': 'Keep a few coins in your wallet when you go adventuring outdoors: '\n",
      "          'https://t.co/GrhXgPLDhU'},\n",
      " {'classifications': [{'confidence': 0.487,\n",
      "                       'tag_id': 55180397,\n",
      "                       'tag_name': 'Neutral'}],\n",
      "  'error': False,\n",
      "  'external_id': None,\n",
      "  'text': 'A parte 1 foi essa maravilha ai hahahahah TCC DE EMERGÊNCIA: '\n",
      "          'https://t.co/IkVZan2Rya'},\n",
      " {'classifications': [{'confidence': 0.75,\n",
      "                       'tag_id': 55180397,\n",
      "                       'tag_name': 'Neutral'}],\n",
      "  'error': False,\n",
      "  'external_id': None,\n",
      "  'text': 'RT @GabRF: Estão tentando mostrar que os assediadores na Rússia '\n",
      "          'estão mais ou menos errados comparando com outros casos...\\n'\n",
      "          '\\n'\n",
      "          'Não é uma quest…'},\n",
      " {'classifications': [{'confidence': 0.716,\n",
      "                       'tag_id': 55180395,\n",
      "                       'tag_name': 'Positive'}],\n",
      "  'error': False,\n",
      "  'external_id': None,\n",
      "  'text': 'https://t.co/RvaF9owpHc'},\n",
      " {'classifications': [{'confidence': 0.883,\n",
      "                       'tag_id': 55180397,\n",
      "                       'tag_name': 'Neutral'}],\n",
      "  'error': False,\n",
      "  'external_id': None,\n",
      "  'text': 'Me manda um tema de TCC bem complexo que vc tenha feito que vai ter '\n",
      "          'a parte 2 do TCC DE EMERGENCIA no youtube!'},\n",
      " {'classifications': [{'confidence': 0.72,\n",
      "                       'tag_id': 55180397,\n",
      "                       'tag_name': 'Neutral'}],\n",
      "  'error': False,\n",
      "  'external_id': None,\n",
      "  'text': 'RT @LuisSuarez9: FELIZ por ser parte de la HISTORIA de URUGUAY '\n",
      "          'cumpliendo 💯 partidos!!! FELIZ por avanzar a Octavos nuevamente 👏👏👏 '\n",
      "          'y MÁS QU…'},\n",
      " {'classifications': [{'confidence': 0.884,\n",
      "                       'tag_id': 55180397,\n",
      "                       'tag_name': 'Neutral'}],\n",
      "  'error': False,\n",
      "  'external_id': None,\n",
      "  'text': 'Sexta vai rolar mais uma Live acompanhando o jogo do Brasil!\\n'\n",
      "          'Cola com a gente às 08h40 pra acompanhar o segundo jog… '\n",
      "          'https://t.co/MjOa42FqLR'},\n",
      " {'classifications': [{'confidence': 0.44,\n",
      "                       'tag_id': 55180395,\n",
      "                       'tag_name': 'Positive'}],\n",
      "  'error': False,\n",
      "  'external_id': None,\n",
      "  'text': '1. You may change external state by accident when you reassign '\n",
      "          'values\\n'\n",
      "          '2. You create more complex code when you reas… '\n",
      "          'https://t.co/yZPhDkWcI4'},\n",
      " {'classifications': [{'confidence': 0.522,\n",
      "                       'tag_id': 55180397,\n",
      "                       'tag_name': 'Neutral'}],\n",
      "  'error': False,\n",
      "  'external_id': None,\n",
      "  'text': 'Depois desses dois jogos, os dois times que ganharem esses jogos se '\n",
      "          'enfrentam (espero que @paiNGamingBR x… https://t.co/xlICQ4SQC6'},\n",
      " {'classifications': [{'confidence': 0.713,\n",
      "                       'tag_id': 55180397,\n",
      "                       'tag_name': 'Neutral'}],\n",
      "  'error': False,\n",
      "  'external_id': None,\n",
      "  'text': 'O que significa que seria a Grécia, e não a Irlanda, o indicado da '\n",
      "          'confederação do país-sede para jogar a repescage… '\n",
      "          'https://t.co/UsUVZ83Wbe'},\n",
      " {'classifications': [{'confidence': 0.522,\n",
      "                       'tag_id': 55180397,\n",
      "                       'tag_name': 'Neutral'}],\n",
      "  'error': False,\n",
      "  'external_id': None,\n",
      "  'text': 'RT @PretasnaRede: GEEEEEEENTE já atualizou o feed? tem episódio '\n",
      "          'novinho no ar, corre lá pra não perder esse papo delicia sobre '\n",
      "          'expectativas…'},\n",
      " {'classifications': [{'confidence': 0.872,\n",
      "                       'tag_id': 55180397,\n",
      "                       'tag_name': 'Neutral'}],\n",
      "  'error': False,\n",
      "  'external_id': None,\n",
      "  'text': 'RT @JUrruzola: En la puerta de la casa donde viviera Elena y que a '\n",
      "          'final de los 70 fue rapiñada por las FFAA de nuestro país, ahora '\n",
      "          'una int…'},\n",
      " {'classifications': [{'confidence': 0.813,\n",
      "                       'tag_id': 55180397,\n",
      "                       'tag_name': 'Neutral'}],\n",
      "  'error': False,\n",
      "  'external_id': None,\n",
      "  'text': 'Qualificatórias fechadas SA do Dota 2:\\n'\n",
      "          'Amanhã às 13h começam as playoffs com @SGe_sports x Torus, vai ser '\n",
      "          'uma serie… https://t.co/iV8ZT0RXYj'}]\n"
     ]
    }
   ],
   "source": [
    "pprint.pprint(response.body)"
   ]
  },
  {
   "cell_type": "code",
   "execution_count": null,
   "metadata": {},
   "outputs": [],
   "source": []
  }
 ],
 "metadata": {
  "kernelspec": {
   "display_name": "Python 3",
   "language": "python",
   "name": "python3"
  },
  "language_info": {
   "codemirror_mode": {
    "name": "ipython",
    "version": 3
   },
   "file_extension": ".py",
   "mimetype": "text/x-python",
   "name": "python",
   "nbconvert_exporter": "python",
   "pygments_lexer": "ipython3",
   "version": "3.6.4"
  }
 },
 "nbformat": 4,
 "nbformat_minor": 2
}
